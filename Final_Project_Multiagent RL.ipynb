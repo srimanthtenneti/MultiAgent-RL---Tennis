{
 "cells": [
  {
   "cell_type": "markdown",
   "metadata": {},
   "source": [
    "# Collaboration and Competition\n",
    "\n",
    "---\n",
    "\n",
    "In this notebook, you will learn how to use the Unity ML-Agents environment for the third project of the [Deep Reinforcement Learning Nanodegree](https://www.udacity.com/course/deep-reinforcement-learning-nanodegree--nd893) program.\n",
    "\n",
    "### 1. Start the Environment\n",
    "\n",
    "We begin by importing the necessary packages.  If the code cell below returns an error, please revisit the project instructions to double-check that you have installed [Unity ML-Agents](https://github.com/Unity-Technologies/ml-agents/blob/master/docs/Installation.md) and [NumPy](http://www.numpy.org/)."
   ]
  },
  {
   "cell_type": "code",
   "execution_count": 3,
   "metadata": {},
   "outputs": [],
   "source": [
    "import numpy as np\n",
    "import torch\n",
    "import matplotlib.pyplot as plt\n",
    "import time\n",
    "\n",
    "from unityagents import UnityEnvironment\n",
    "from collections import deque\n",
    "from itertools import count\n",
    "import datetime\n",
    "\n",
    "from ddpg import DDPG, ReplayBuffer\n",
    "\n",
    "\n",
    "%matplotlib inline"
   ]
  },
  {
   "cell_type": "markdown",
   "metadata": {},
   "source": [
    "Next, we will start the environment!  **_Before running the code cell below_**, change the `file_name` parameter to match the location of the Unity environment that you downloaded.\n",
    "\n",
    "- **Mac**: `\"path/to/Tennis.app\"`\n",
    "- **Windows** (x86): `\"path/to/Tennis_Windows_x86/Tennis.exe\"`\n",
    "- **Windows** (x86_64): `\"path/to/Tennis_Windows_x86_64/Tennis.exe\"`\n",
    "- **Linux** (x86): `\"path/to/Tennis_Linux/Tennis.x86\"`\n",
    "- **Linux** (x86_64): `\"path/to/Tennis_Linux/Tennis.x86_64\"`\n",
    "- **Linux** (x86, headless): `\"path/to/Tennis_Linux_NoVis/Tennis.x86\"`\n",
    "- **Linux** (x86_64, headless): `\"path/to/Tennis_Linux_NoVis/Tennis.x86_64\"`\n",
    "\n",
    "For instance, if you are using a Mac, then you downloaded `Tennis.app`.  If this file is in the same folder as the notebook, then the line below should appear as follows:\n",
    "```\n",
    "env = UnityEnvironment(file_name=\"Tennis.app\")\n",
    "```"
   ]
  },
  {
   "cell_type": "code",
   "execution_count": 4,
   "metadata": {},
   "outputs": [
    {
     "name": "stderr",
     "output_type": "stream",
     "text": [
      "INFO:unityagents:\n",
      "'Academy' started successfully!\n",
      "Unity Academy name: Academy\n",
      "        Number of Brains: 1\n",
      "        Number of External Brains : 1\n",
      "        Lesson number : 0\n",
      "        Reset Parameters :\n",
      "\t\t\n",
      "Unity brain name: TennisBrain\n",
      "        Number of Visual Observations (per agent): 0\n",
      "        Vector Observation space type: continuous\n",
      "        Vector Observation space size (per agent): 8\n",
      "        Number of stacked Vector Observation: 3\n",
      "        Vector Action space type: continuous\n",
      "        Vector Action space size (per agent): 2\n",
      "        Vector Action descriptions: , \n"
     ]
    }
   ],
   "source": [
    "env = UnityEnvironment(file_name=\"envs/Tennis_Linux/Tennis.x86_64\")"
   ]
  },
  {
   "cell_type": "markdown",
   "metadata": {},
   "source": [
    "Environments contain **_brains_** which are responsible for deciding the actions of their associated agents. Here we check for the first brain available, and set it as the default brain we will be controlling from Python."
   ]
  },
  {
   "cell_type": "code",
   "execution_count": 5,
   "metadata": {},
   "outputs": [],
   "source": [
    "# get the default brain\n",
    "brain_name = env.brain_names[0]\n",
    "brain = env.brains[brain_name]"
   ]
  },
  {
   "cell_type": "markdown",
   "metadata": {},
   "source": [
    "### 2. Examine the State and Action Spaces\n",
    "\n",
    "In this environment, two agents control rackets to bounce a ball over a net. If an agent hits the ball over the net, it receives a reward of +0.1.  If an agent lets a ball hit the ground or hits the ball out of bounds, it receives a reward of -0.01.  Thus, the goal of each agent is to keep the ball in play.\n",
    "\n",
    "The observation space consists of 8 variables corresponding to the position and velocity of the ball and racket. Two continuous actions are available, corresponding to movement toward (or away from) the net, and jumping. \n",
    "\n",
    "Run the code cell below to print some information about the environment."
   ]
  },
  {
   "cell_type": "code",
   "execution_count": 6,
   "metadata": {},
   "outputs": [
    {
     "name": "stdout",
     "output_type": "stream",
     "text": [
      "Number of agents: 2\n",
      "Size of each action: 2\n",
      "There are 2 agents. Each observes a state with length: 24\n",
      "The state for the first agent looks like: [ 0.          0.          0.          0.          0.          0.\n",
      "  0.          0.          0.          0.          0.          0.\n",
      "  0.          0.          0.          0.         -6.65278625 -1.5\n",
      " -0.          0.          6.83172083  6.         -0.          0.        ]\n"
     ]
    }
   ],
   "source": [
    "# reset the environment\n",
    "env_info = env.reset(train_mode=True)[brain_name]\n",
    "\n",
    "# number of agents \n",
    "num_agents = len(env_info.agents)\n",
    "print('Number of agents:', num_agents)\n",
    "\n",
    "# size of each action\n",
    "action_size = brain.vector_action_space_size\n",
    "print('Size of each action:', action_size)\n",
    "\n",
    "# examine the state space \n",
    "states = env_info.vector_observations\n",
    "state_size = states.shape[1]\n",
    "print('There are {} agents. Each observes a state with length: {}'.format(states.shape[0], state_size))\n",
    "print('The state for the first agent looks like:', states[0])"
   ]
  },
  {
   "cell_type": "markdown",
   "metadata": {},
   "source": [
    "### 3. Take Random Actions in the Environment\n",
    "\n",
    "In the next code cell, you will learn how to use the Python API to control the agents and receive feedback from the environment.\n",
    "\n",
    "Once this cell is executed, you will watch the agents' performance, if they select actions at random with each time step.  A window should pop up that allows you to observe the agents.\n",
    "\n",
    "Of course, as part of the project, you'll have to change the code so that the agents are able to use their experiences to gradually choose better actions when interacting with the environment!"
   ]
  },
  {
   "cell_type": "code",
   "execution_count": 7,
   "metadata": {},
   "outputs": [
    {
     "name": "stdout",
     "output_type": "stream",
     "text": [
      "Score (max over agents) from episode 1: 0.0\n",
      "Score (max over agents) from episode 2: 0.0\n",
      "Score (max over agents) from episode 3: 0.0\n",
      "Score (max over agents) from episode 4: 0.0\n",
      "Score (max over agents) from episode 5: 0.0\n"
     ]
    }
   ],
   "source": [
    "for i in range(1, 6):                                    # play game for 5 episodes\n",
    "    env_info = env.reset(train_mode=False)[brain_name]     # reset the environment    \n",
    "    states = env_info.vector_observations                  # get the current state (for each agent)\n",
    "    scores = np.zeros(num_agents)                          # initialize the score (for each agent)\n",
    "    while True:\n",
    "        actions = np.random.randn(num_agents, action_size) # select an action (for each agent)\n",
    "        actions = np.clip(actions, -1, 1)                  # all actions between -1 and 1\n",
    "        env_info = env.step(actions)[brain_name]           # send all actions to tne environment\n",
    "        next_states = env_info.vector_observations         # get next state (for each agent)\n",
    "        rewards = env_info.rewards                         # get reward (for each agent)\n",
    "        dones = env_info.local_done                        # see if episode finished\n",
    "        scores += env_info.rewards                         # update the score (for each agent)\n",
    "        states = next_states                               # roll over states to next time step\n",
    "        if np.any(dones):                                  # exit loop if episode finished\n",
    "            break\n",
    "        time.sleep(.050)\n",
    "    print('Score (max over agents) from episode {}: {}'.format(i, np.max(scores)))"
   ]
  },
  {
   "cell_type": "markdown",
   "metadata": {},
   "source": [
    "When finished, you can close the environment."
   ]
  },
  {
   "cell_type": "code",
   "execution_count": 8,
   "metadata": {},
   "outputs": [],
   "source": [
    "#env.close()"
   ]
  },
  {
   "cell_type": "markdown",
   "metadata": {},
   "source": [
    "### 4. It's Your Turn!\n",
    "\n",
    "Now it's your turn to train your own agent to solve the environment!  When training the environment, set `train_mode=True`, so that the line for resetting the environment looks like the following:\n",
    "```python\n",
    "env_info = env.reset(train_mode=True)[brain_name]\n",
    "```"
   ]
  },
  {
   "cell_type": "code",
   "execution_count": 9,
   "metadata": {},
   "outputs": [],
   "source": [
    "BUFFER_SIZE = int(1e6)  # replay buffer size\n",
    "BUFFER_FILL = int(1e4) # How much of the buffer should be filled before learning\n",
    "CACHE_SIZE = int(1e3)\n",
    "NUM_UPDATES_CACHE = 2 # How many times to update from cache buffer\n",
    "BATCH_SIZE = 256        # minibatch size\n",
    "GAMMA = 0.99            # discount factor\n",
    "TAU = 1e-3              # for soft update of target parameters\n",
    "LR_ACTOR = 1e-3         # learning rate of the actor\n",
    "LR_CRITIC = 1e-3        # learning rate of the critic\n",
    "WEIGHT_DECAY = 0        # L2 weight decay\n",
    "UPDATE_EVERY = 20       # timesteps between updates\n",
    "NUM_UPDATES = 15        # num of update passes when updating\n",
    "EPSILON = 1.0           # epsilon for the noise process added to the actions\n",
    "EPSILON_DECAY = 1e-6    # decay for epsilon above\n",
    "NOISE_SIGMA = 0.05\n",
    "\n",
    "fc1_units=96\n",
    "fc2_units=96\n",
    "\n",
    "random_seed=23\n",
    "RECREATE_EVERY=1 # Recreate agent models with new set of random weights"
   ]
  },
  {
   "cell_type": "code",
   "execution_count": 10,
   "metadata": {},
   "outputs": [
    {
     "data": {
      "text/plain": [
       "<function __main__.store(buffers, states, actions, rewards, next_states, dones, timestep)>"
      ]
     },
     "execution_count": 10,
     "metadata": {},
     "output_type": "execute_result"
    }
   ],
   "source": [
    "def store(buffers, states, actions, rewards, next_states, dones, timestep):\n",
    "    memory, cache = buffers\n",
    "    for state, action, reward, next_state, done in zip(states, actions, rewards, next_states, dones):\n",
    "        memory.add(state, action, reward, next_state, done)\n",
    "        cache.add(state, action, reward, next_state, done)\n",
    "store"
   ]
  },
  {
   "cell_type": "code",
   "execution_count": 11,
   "metadata": {},
   "outputs": [
    {
     "data": {
      "text/plain": [
       "<function __main__.learn(agent, buffers, timestep, i_episode)>"
      ]
     },
     "execution_count": 11,
     "metadata": {},
     "output_type": "execute_result"
    }
   ],
   "source": [
    "def learn(agent, buffers, timestep, i_episode):\n",
    "    memory, cache = buffers\n",
    "    if len(memory) > BUFFER_FILL and timestep % UPDATE_EVERY == 0: \n",
    "        for _ in range(NUM_UPDATES):\n",
    "            experiences = memory.sample()\n",
    "            agent.learn(experiences, GAMMA)\n",
    "        for _ in range(NUM_UPDATES_CACHE):\n",
    "            experiences = cache.sample()\n",
    "            agent.learn(experiences, GAMMA)\n",
    "    elif timestep == 0 and i_episode % RECREATE_EVERY == 0:        \n",
    "        agent.reset()\n",
    "    \n",
    "learn"
   ]
  },
  {
   "cell_type": "code",
   "execution_count": 13,
   "metadata": {},
   "outputs": [
    {
     "data": {
      "text/plain": [
       "<function __main__.ddpg(agent, buffers, n_episodes=200, stopOnSolved=True)>"
      ]
     },
     "execution_count": 13,
     "metadata": {},
     "output_type": "execute_result"
    }
   ],
   "source": [
    "avg_over = 100\n",
    "print_every = 10\n",
    "\n",
    "def ddpg(agent, buffers, n_episodes=200, stopOnSolved=True):\n",
    "    print('Start: ',datetime.datetime.now())\n",
    "    scores_deque = deque(maxlen=avg_over)\n",
    "    scores_global = []\n",
    "    average_global = []\n",
    "    min_global = []    \n",
    "    best_avg = -np.inf\n",
    "\n",
    "    tic = time.time()\n",
    "    print('\\rNo,Score,  Avg,  Min, Time, Buffer')\n",
    "    for i_episode in range(1, n_episodes+1):\n",
    "        env_info = env.reset(train_mode=True)[brain_name]      # reset the environment    \n",
    "        states = env_info.vector_observations                  # get the current state (for each agent)\n",
    "        scores = np.zeros(num_agents)                          # initialize the score (for each agent)\n",
    "        agent.reset()\n",
    "        \n",
    "        score_average = 0\n",
    "        timestep = time.time()\n",
    "        for t in count():\n",
    "            actions = agent.act(states, add_noise=True)\n",
    "            env_info = env.step(actions)[brain_name]           # send all actions to tne environment\n",
    "            next_states = env_info.vector_observations         # get next state (for each agent)\n",
    "            rewards = env_info.rewards                         # get reward (for each agent)\n",
    "            dones = env_info.local_done                        # see if episode finished            \n",
    "            store(buffers, states, actions, rewards, next_states, dones, t)\n",
    "            learn(agent, buffers, t, i_episode)\n",
    "            states = next_states                               # roll over states to next time step\n",
    "            scores += rewards                                  # update the score (for each agent)            \n",
    "            if np.any(dones):                                  # exit loop if episode finished\n",
    "                break\n",
    "        \n",
    "        score = np.max(scores)        \n",
    "        scores_deque.append(score)\n",
    "        score_average = np.mean(scores_deque)\n",
    "        scores_global.append(score)\n",
    "        average_global.append(score_average)  \n",
    "        min_global.append(np.min(scores))  \n",
    "        \n",
    "        if i_episode % print_every == 0:\n",
    "            agent.save('./')\n",
    "            print('\\r {}, {:.2f}, {:.2f}, {:.2f}, {:.2f}'\\\n",
    "              .format(str(i_episode).zfill(3), score, score_average, \n",
    "                      np.min(scores), time.time() - timestep), len(buffers[0]), end=\"\\n\")\n",
    "        if  stopOnSolved and score_average > 0.5:            \n",
    "            toc = time.time()\n",
    "            print('\\nSolved in {:d} episodes!\\tAvg Score: {:.2f}, time: {}'.format(i_episode, score_average, toc-tic))\n",
    "            agent.save('./'+str(i_episode)+'_')\n",
    "            break\n",
    "     \n",
    "    print('End: ',datetime.datetime.now())\n",
    "    return scores_global, average_global, min_global\n",
    "\n",
    "ddpg"
   ]
  },
  {
   "cell_type": "code",
   "execution_count": 17,
   "metadata": {},
   "outputs": [
    {
     "name": "stdout",
     "output_type": "stream",
     "text": [
      "Start:  2018-10-24 20:20:43.740650\n",
      "No,Score,  Avg,  Min, Time, Buffer\n",
      " 010, 0.00, 0.01, -0.01, 0.04 430\n",
      " 020, 0.00, 0.01, -0.01, 0.06 784\n",
      " 030, 0.00, 0.01, -0.01, 0.08 1284\n",
      " 040, 0.09, 0.01, 0.00, 0.05 1678\n",
      " 050, 0.00, 0.01, -0.01, 0.04 2026\n",
      " 060, 0.00, 0.01, -0.01, 0.08 2440\n",
      " 070, 0.00, 0.01, -0.01, 0.03 2864\n",
      " 080, 0.00, 0.01, -0.01, 0.04 3224\n",
      " 090, 0.10, 0.02, 0.09, 0.11 3708\n",
      " 100, 0.00, 0.02, -0.01, 0.04 4096\n",
      " 110, 0.00, 0.02, -0.01, 0.05 4454\n",
      " 120, 0.00, 0.01, -0.01, 0.05 4838\n",
      " 130, 0.00, 0.01, -0.01, 0.04 5280\n",
      " 140, 0.10, 0.02, -0.01, 0.04 5786\n",
      " 150, 0.00, 0.02, -0.01, 0.04 6168\n",
      " 160, 0.00, 0.02, -0.01, 0.04 6600\n",
      " 170, 0.00, 0.02, -0.01, 0.04 7072\n",
      " 180, 0.00, 0.02, -0.01, 0.05 7532\n",
      " 190, 0.00, 0.02, -0.01, 0.05 7994\n",
      " 200, 0.10, 0.02, -0.01, 0.05 8408\n",
      " 210, 0.00, 0.02, -0.01, 0.03 8858\n",
      " 220, 0.00, 0.02, -0.01, 0.03 9246\n",
      " 230, 0.00, 0.02, -0.01, 0.06 9688\n",
      " 240, 0.00, 0.02, -0.01, 0.18 10088\n",
      " 250, 0.00, 0.02, -0.01, 0.17 10384\n",
      " 260, 0.00, 0.02, -0.01, 0.17 10716\n",
      " 270, 0.00, 0.02, -0.01, 0.17 11020\n",
      " 280, 0.00, 0.01, -0.01, 0.18 11386\n",
      " 290, 0.00, 0.01, -0.01, 0.17 11742\n",
      " 300, 0.00, 0.01, -0.01, 0.17 12030\n",
      " 310, 0.00, 0.01, -0.01, 0.18 12410\n",
      " 320, 0.00, 0.01, -0.01, 0.17 12694\n",
      " 330, 0.00, 0.01, -0.01, 0.17 12978\n",
      " 340, 0.00, 0.00, -0.01, 0.16 13262\n",
      " 350, 0.00, 0.00, -0.01, 0.17 13546\n",
      " 360, 0.00, 0.00, -0.01, 0.18 13830\n",
      " 370, 0.00, 0.00, -0.01, 0.18 14114\n",
      " 380, 0.00, 0.00, -0.01, 0.18 14398\n",
      " 390, 0.00, 0.00, -0.01, 0.18 14682\n",
      " 400, 0.00, 0.00, -0.01, 0.18 14966\n",
      " 410, 0.00, 0.00, -0.01, 0.17 15250\n",
      " 420, 0.00, 0.00, -0.01, 0.18 15534\n",
      " 430, 0.00, 0.00, -0.01, 0.24 15818\n",
      " 440, 0.00, 0.00, -0.01, 0.24 16108\n",
      " 450, 0.00, 0.00, -0.01, 0.18 16392\n",
      " 460, 0.00, 0.00, -0.01, 0.20 16676\n",
      " 470, 0.00, 0.00, -0.01, 0.19 16960\n",
      " 480, 0.00, 0.00, -0.01, 0.21 17242\n",
      " 490, 0.00, 0.00, -0.01, 0.19 17534\n",
      " 500, 0.00, 0.00, -0.01, 0.21 17818\n",
      " 510, 0.00, 0.00, -0.01, 0.39 18116\n",
      " 520, 0.00, 0.00, -0.01, 0.20 18404\n",
      " 530, 0.00, 0.00, -0.01, 0.20 18688\n",
      " 540, 0.00, 0.00, -0.01, 0.19 18972\n",
      " 550, 0.00, 0.00, -0.01, 0.20 19256\n",
      " 560, 0.00, 0.00, -0.01, 0.21 19544\n",
      " 570, 0.00, 0.00, -0.01, 0.20 19834\n",
      " 580, 0.00, 0.00, -0.01, 0.19 20138\n",
      " 590, 0.00, 0.00, -0.01, 0.20 20422\n",
      " 600, 0.00, 0.00, -0.01, 0.20 20706\n",
      " 610, 0.00, 0.00, -0.01, 0.20 20990\n",
      " 620, 0.00, 0.00, -0.01, 0.20 21274\n",
      " 630, 0.00, 0.00, -0.01, 0.21 21558\n",
      " 640, 0.00, 0.00, -0.01, 0.20 21882\n",
      " 650, 0.10, 0.01, -0.01, 0.41 22376\n",
      " 660, 0.00, 0.01, -0.01, 0.20 22760\n",
      " 670, 0.00, 0.01, -0.01, 0.20 23136\n",
      " 680, 0.00, 0.01, -0.01, 0.20 23488\n",
      " 690, 0.00, 0.01, -0.01, 0.20 23804\n",
      " 700, 0.00, 0.01, -0.01, 0.20 24124\n",
      " 710, 0.10, 0.01, -0.01, 0.41 24562\n",
      " 720, 0.00, 0.01, -0.01, 0.20 24928\n",
      " 730, 0.10, 0.02, -0.01, 0.39 25458\n",
      " 740, 0.00, 0.02, -0.01, 0.19 25908\n",
      " 750, 0.00, 0.02, -0.01, 0.22 26336\n",
      " 760, 0.00, 0.02, -0.01, 0.20 26832\n",
      " 770, 0.00, 0.03, -0.01, 0.40 27218\n",
      " 780, 0.10, 0.03, -0.01, 0.55 28036\n",
      " 790, 0.00, 0.04, -0.01, 0.19 28636\n",
      " 800, 0.10, 0.04, -0.01, 0.41 29104\n",
      " 810, 0.10, 0.05, -0.01, 0.41 29916\n",
      " 820, 0.10, 0.06, 0.09, 0.59 30800\n",
      " 830, 0.00, 0.06, -0.01, 0.21 31396\n",
      " 840, 0.00, 0.06, -0.01, 0.19 32196\n",
      " 850, 0.00, 0.06, -0.01, 0.18 32478\n",
      " 860, 0.00, 0.05, -0.01, 0.21 32836\n",
      " 870, 0.00, 0.05, -0.01, 0.20 33196\n",
      " 880, 0.00, 0.05, -0.01, 0.21 33612\n",
      " 890, 0.10, 0.05, -0.01, 0.50 34822\n",
      " 900, 0.10, 0.06, -0.01, 0.50 35740\n",
      " 910, 0.10, 0.06, -0.01, 0.41 36460\n",
      " 920, 0.10, 0.06, -0.01, 0.43 37254\n",
      " 930, 0.10, 0.07, -0.02, 0.39 38006\n",
      " 940, 0.10, 0.07, -0.01, 0.40 38838\n",
      " 950, 0.00, 0.08, -0.01, 0.22 39674\n",
      " 960, 0.10, 0.09, -0.01, 0.41 40904\n",
      " 970, 0.10, 0.11, -0.01, 0.43 42158\n",
      " 980, 0.10, 0.12, 0.09, 0.63 43514\n",
      " 990, 0.10, 0.12, -0.01, 0.44 44424\n",
      " 1000, 0.10, 0.12, 0.09, 0.58 45330\n",
      " 1010, 0.20, 0.12, 0.09, 0.86 46382\n",
      " 1020, 0.30, 0.14, 0.19, 1.27 48886\n",
      " 1030, 2.60, 0.32, 2.60, 12.71 62772\n",
      "\n",
      "Solved in 1039 episodes!\tAvg Score: 0.51, time: 436.1892879009247\n",
      "End:  2018-10-24 20:27:59.932103\n"
     ]
    }
   ],
   "source": [
    "# Create new empty buffers to start training from scratch\n",
    "buffers = [ReplayBuffer(action_size, BUFFER_SIZE, BATCH_SIZE, random_seed),\n",
    "           ReplayBuffer(action_size, CACHE_SIZE, BATCH_SIZE, random_seed)]\n",
    "agent = DDPG(state_size=state_size, action_size=action_size, random_seed=23, \n",
    "              fc1_units=96, fc2_units=96)\n",
    "scores, averages, minima = ddpg(agent, buffers, n_episodes=2000)"
   ]
  },
  {
   "cell_type": "code",
   "execution_count": 20,
   "metadata": {},
   "outputs": [
    {
     "data": {
      "image/png": "[encoded data removed]",
      "text/plain": [
       "<Figure size 432x288 with 1 Axes>"
      ]
     },
     "metadata": {
      "needs_background": "light"
     },
     "output_type": "display_data"
    }
   ],
   "source": [
    "plt.plot(np.arange(1, len(averages)+1), averages)\n",
    "plt.plot(np.arange(1, len(scores)+1), scores)\n",
    "plt.ylabel('Score')\n",
    "plt.xlabel('Episode #')\n",
    "plt.legend(['Avg', 'Score'], loc='upper left')\n",
    "plt.show()"
   ]
  },
  {
   "cell_type": "code",
   "execution_count": 21,
   "metadata": {},
   "outputs": [],
   "source": [
    "memory, cache = buffers\n",
    "memory.save('experiences96_96.pkl')"
   ]
  },
  {
   "cell_type": "markdown",
   "metadata": {},
   "source": [
    "### 5. See the pre-trained agent in action"
   ]
  },
  {
   "cell_type": "code",
   "execution_count": 22,
   "metadata": {},
   "outputs": [],
   "source": [
    "def play(agent, episodes=3):\n",
    "    for i_episode in range(episodes):\n",
    "        env_info = env.reset(train_mode=False)[brain_name]     # reset the environment    \n",
    "        states = env_info.vector_observations                  # get the current state (for each agent)\n",
    "        scores = np.zeros(num_agents)                          # initialize the score (for each agent)\n",
    "        while True:\n",
    "            actions = np.random.randn(num_agents, action_size) # select an action (for each agent)\n",
    "            actions = agent.act(states, add_noise=False)       # all actions between -1 and 1\n",
    "            env_info = env.step(actions)[brain_name]           # send all actions to tne environment\n",
    "            next_states = env_info.vector_observations         # get next state (for each agent)\n",
    "            rewards = env_info.rewards                         # get reward (for each agent)\n",
    "            dones = env_info.local_done                        # see if episode finished\n",
    "            scores += env_info.rewards                         # update the score (for each agent)\n",
    "            states = next_states                               # roll over states to next time step\n",
    "            if np.any(dones):                                  # exit loop if episode finished\n",
    "                break\n",
    "            time.sleep(.050)\n",
    "        print('Ep No: {} Total score (averaged over agents): {}'.format(i_episode, np.max(scores)))"
   ]
  },
  {
   "cell_type": "code",
   "execution_count": 23,
   "metadata": {},
   "outputs": [],
   "source": [
    "agent = DDPG(state_size=state_size, action_size=action_size, random_seed=23, \n",
    "             fc1_units=96, fc2_units=96)\n",
    "agent.load('./saves/1039_96_96_actor.pth', './saves/1039_96_96_critic.pth')"
   ]
  },
  {
   "cell_type": "code",
   "execution_count": 24,
   "metadata": {},
   "outputs": [
    {
     "name": "stdout",
     "output_type": "stream",
     "text": [
      "Ep No: 0 Total score (averaged over agents): 2.7000000402331352\n",
      "Ep No: 1 Total score (averaged over agents): 2.7000000402331352\n",
      "Ep No: 2 Total score (averaged over agents): 2.600000038743019\n",
      "Ep No: 3 Total score (averaged over agents): 2.7000000402331352\n",
      "Ep No: 4 Total score (averaged over agents): 2.600000038743019\n",
      "Ep No: 5 Total score (averaged over agents): 2.7000000402331352\n",
      "Ep No: 6 Total score (averaged over agents): 2.7000000402331352\n",
      "Ep No: 7 Total score (averaged over agents): 2.7000000402331352\n",
      "Ep No: 8 Total score (averaged over agents): 2.600000038743019\n",
      "Ep No: 9 Total score (averaged over agents): 2.7000000402331352\n"
     ]
    }
   ],
   "source": [
    "play(agent, episodes=10)"
   ]
  },
  {
   "cell_type": "code",
   "execution_count": null,
   "metadata": {},
   "outputs": [],
   "source": []
  }
 ],
 "metadata": {
  "kernelspec": {
   "display_name": "drlnd",
   "language": "python",
   "name": "drlnd"
  },
  "language_info": {
   "codemirror_mode": {
    "name": "ipython",
    "version": 3
   },
   "file_extension": ".py",
   "mimetype": "text/x-python",
   "name": "python",
   "nbconvert_exporter": "python",
   "pygments_lexer": "ipython3",
   "version": "3.6.6"
  }
 },
 "nbformat": 4,
 "nbformat_minor": 2
}
